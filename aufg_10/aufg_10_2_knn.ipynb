{
 "cells": [
  {
   "cell_type": "code",
   "execution_count": 1,
   "metadata": {},
   "outputs": [],
   "source": [
    "%matplotlib inline\n",
    "import numpy as np\n",
    "from sklearn import datasets\n",
    "from math import sqrt\n",
    "from collections import Counter\n"
   ]
  },
  {
   "cell_type": "code",
   "execution_count": 2,
   "metadata": {},
   "outputs": [],
   "source": [
    "iris = datasets.load_iris()\n",
    "iris_data = iris.data\n",
    "iris_labels = iris.target\n",
    "\n",
    "n_training_samples = len(iris_data) # use all data to learn\n",
    "learnset_data = iris_data # iris_data[indices[:-n_training_samples]]\n",
    "learnset_labels = iris_labels # iris_labels[indices[:-n_training_samples]]"
   ]
  },
  {
   "cell_type": "code",
   "execution_count": 3,
   "metadata": {},
   "outputs": [
    {
     "name": "stdout",
     "output_type": "stream",
     "text": [
      "Training samples: 150\n"
     ]
    }
   ],
   "source": [
    "print(\"Training samples:\", n_training_samples)"
   ]
  },
  {
   "cell_type": "code",
   "execution_count": 4,
   "metadata": {},
   "outputs": [
    {
     "name": "stdout",
     "output_type": "stream",
     "text": [
      "ESA 10.2 selected k: 12\n"
     ]
    }
   ],
   "source": [
    "checkIris = [4.8, 2.5, 5.3, 2.4] # the new iris data from exercise 7.9\n",
    "knn_k = round(sqrt(n_training_samples))\n",
    "print(\"ESA 10.2 selected k:\", knn_k)"
   ]
  },
  {
   "cell_type": "code",
   "execution_count": 5,
   "metadata": {},
   "outputs": [],
   "source": [
    "def distancef(instance1, instance2):\n",
    "    # just in case, if the instances are lists or tuples:\n",
    "    #instance1 = np.array(instance1)\n",
    "    #instance2 = np.array(instance2)\n",
    "\n",
    "    return np.linalg.norm(np.subtract(instance1, instance2)) #np.linalg.norm(instance1 - instance2)"
   ]
  },
  {
   "cell_type": "code",
   "execution_count": 6,
   "metadata": {},
   "outputs": [],
   "source": [
    "def get_neighbors(training_set,\n",
    "                  labels,\n",
    "                  test_instance,\n",
    "                  k,\n",
    "                  distance=distancef):\n",
    "    \"\"\"\n",
    "    get_neighors calculates a list of the k nearest neighbors\n",
    "    of an instance 'test_instance'.\n",
    "    The list neighbors contains 3-tuples with\n",
    "    (index, dist, label)\n",
    "    where\n",
    "    index    is the index from the training_set,\n",
    "    dist     is the distance between the test_instance and the\n",
    "             instance training_set[index]\n",
    "    distance is a reference to a function used to calculate the\n",
    "             distances\n",
    "    \"\"\"\n",
    "    distances = []\n",
    "    for index in range(len(training_set)):\n",
    "        dist = distance(test_instance, training_set[index])\n",
    "        distances.append((training_set[index], dist, labels[index]))\n",
    "    distances.sort(key=lambda x: x[1])\n",
    "    neighbors = distances[:k]\n",
    "    return neighbors"
   ]
  },
  {
   "cell_type": "code",
   "execution_count": 7,
   "metadata": {},
   "outputs": [],
   "source": [
    "def vote_prob(neighbors):\n",
    "    class_counter = Counter()\n",
    "    for neighbor in neighbors:\n",
    "        class_counter[neighbor[2]] += 1\n",
    "    labels, votes = zip(*class_counter.most_common())\n",
    "    winner = class_counter.most_common(1)[0][0]\n",
    "    votes4winner = class_counter.most_common(1)[0][1]\n",
    "    return winner, votes4winner/sum(votes)\n",
    "\n",
    "neighbors = get_neighbors(learnset_data,\n",
    "                          learnset_labels,\n",
    "                          checkIris,\n",
    "                          knn_k,\n",
    "                          distance=distancef)"
   ]
  },
  {
   "cell_type": "code",
   "execution_count": 8,
   "metadata": {},
   "outputs": [
    {
     "name": "stdout",
     "output_type": "stream",
     "text": [
      "Selected neighbors: [(array([5.6, 2.8, 4.9, 2. ]), 1.0246950765959593, 2), (array([5.7, 2.5, 5. , 2. ]), 1.0295630140987002, 2), (array([5.8, 2.8, 5.1, 2.4]), 1.0630145812734648, 2), (array([4.9, 2.5, 4.5, 1.7]), 1.067707825203131, 2), (array([5.8, 2.7, 5.1, 1.9]), 1.1532562594670797, 2), (array([5.8, 2.7, 5.1, 1.9]), 1.1532562594670797, 2), (array([5.9, 3. , 5.1, 1.8]), 1.363818169698586, 2), (array([5.4, 3. , 4.5, 1.5]), 1.4352700094407325, 1), (array([6. , 2.7, 5.1, 1.6]), 1.469693845669907, 1), (array([6. , 3. , 4.8, 1.8]), 1.5165750888103102, 2), (array([5.9, 3.2, 4.8, 1.8]), 1.5198684153570667, 1), (array([5.6, 3. , 4.5, 1.5]), 1.5297058540778352, 1)] \n",
      "\n",
      "Exercise ESA10.2 Result for [4.8, 2.5, 5.3, 2.4] is Iris- virginica with 66.66666666666666 % probability using k= 12\n"
     ]
    }
   ],
   "source": [
    "print( \"Selected neighbors:\", neighbors, \"\\n\")\n",
    "votelabel, voteprob = vote_prob(neighbors)\n",
    "print( \"Exercise ESA10.2 Result for\", checkIris, \"is Iris-\", iris.target_names[votelabel],\n",
    "       \"with\", voteprob*100, \"% probability using k=\",knn_k)"
   ]
  },
  {
   "cell_type": "code",
   "execution_count": null,
   "metadata": {},
   "outputs": [],
   "source": []
  }
 ],
 "metadata": {
  "kernelspec": {
   "display_name": "Python 3",
   "language": "python",
   "name": "python3"
  },
  "language_info": {
   "codemirror_mode": {
    "name": "ipython",
    "version": 3
   },
   "file_extension": ".py",
   "mimetype": "text/x-python",
   "name": "python",
   "nbconvert_exporter": "python",
   "pygments_lexer": "ipython3",
   "version": "3.8.5"
  }
 },
 "nbformat": 4,
 "nbformat_minor": 4
}
